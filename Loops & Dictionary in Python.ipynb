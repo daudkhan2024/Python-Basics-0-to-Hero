{
 "cells": [
  {
   "cell_type": "code",
   "execution_count": 1,
   "id": "ae6b77d3",
   "metadata": {},
   "outputs": [
    {
     "data": {
      "text/plain": [
       "[3, 4]"
      ]
     },
     "execution_count": 1,
     "metadata": {},
     "output_type": "execute_result"
    }
   ],
   "source": [
    "#range in list\n",
    "l=[1,2,3,4,5,\"s\",\"f\"]\n",
    "l[2:4]"
   ]
  },
  {
   "cell_type": "code",
   "execution_count": 2,
   "id": "0b543bcd",
   "metadata": {},
   "outputs": [],
   "source": [
    "#lets add something in list we will perform .append method\n",
    "l.append(33)"
   ]
  },
  {
   "cell_type": "code",
   "execution_count": 3,
   "id": "3797b098",
   "metadata": {},
   "outputs": [
    {
     "name": "stdout",
     "output_type": "stream",
     "text": [
      "[1, 2, 3, 4, 5, 's', 'f', 33]\n"
     ]
    }
   ],
   "source": [
    "print(l)"
   ]
  },
  {
   "cell_type": "code",
   "execution_count": 5,
   "id": "0d1dff35",
   "metadata": {},
   "outputs": [],
   "source": [
    "#lets remove something from the list\n",
    "l.remove(4)"
   ]
  },
  {
   "cell_type": "code",
   "execution_count": 6,
   "id": "5f006024",
   "metadata": {},
   "outputs": [
    {
     "name": "stdout",
     "output_type": "stream",
     "text": [
      "[1, 2, 3, 5, 's', 'f', 33]\n"
     ]
    }
   ],
   "source": [
    "print(l)"
   ]
  },
  {
   "cell_type": "code",
   "execution_count": 10,
   "id": "20b6b0c9",
   "metadata": {},
   "outputs": [
    {
     "data": {
      "text/plain": [
       "5"
      ]
     },
     "execution_count": 10,
     "metadata": {},
     "output_type": "execute_result"
    }
   ],
   "source": [
    "#lets use .pop method to snatch an element from list to pop out\n",
    "l.pop(3)"
   ]
  },
  {
   "cell_type": "code",
   "execution_count": 12,
   "id": "e626076d",
   "metadata": {},
   "outputs": [
    {
     "data": {
      "text/plain": [
       "33"
      ]
     },
     "execution_count": 12,
     "metadata": {},
     "output_type": "execute_result"
    }
   ],
   "source": [
    "l.pop(-1)"
   ]
  },
  {
   "cell_type": "markdown",
   "id": "3a42ea1c",
   "metadata": {},
   "source": [
    "Dictionary in python"
   ]
  },
  {
   "cell_type": "code",
   "execution_count": 13,
   "id": "72c8757a",
   "metadata": {},
   "outputs": [
    {
     "data": {
      "text/plain": [
       "dict_values([1, 8])"
      ]
     },
     "execution_count": 13,
     "metadata": {},
     "output_type": "execute_result"
    }
   ],
   "source": [
    "d = {\"a\":1, \"b\":8}\n",
    "d.values() #it will show us only values"
   ]
  },
  {
   "cell_type": "code",
   "execution_count": 14,
   "id": "64655eed",
   "metadata": {},
   "outputs": [
    {
     "data": {
      "text/plain": [
       "dict_keys(['a', 'b'])"
      ]
     },
     "execution_count": 14,
     "metadata": {},
     "output_type": "execute_result"
    }
   ],
   "source": [
    "#to see keys we use\n",
    "d.keys()"
   ]
  },
  {
   "cell_type": "code",
   "execution_count": 16,
   "id": "af741057",
   "metadata": {},
   "outputs": [
    {
     "name": "stdout",
     "output_type": "stream",
     "text": [
      "{'a': 1, 'b': 8, 'm': 33}\n"
     ]
    }
   ],
   "source": [
    "#to add a new key and value into dictionary\n",
    "d[\"m\"] =33\n",
    "print(d)"
   ]
  },
  {
   "cell_type": "code",
   "execution_count": 18,
   "id": "ce7d6405",
   "metadata": {},
   "outputs": [
    {
     "data": {
      "text/plain": [
       "8"
      ]
     },
     "execution_count": 18,
     "metadata": {},
     "output_type": "execute_result"
    }
   ],
   "source": [
    "# to use .pop method and get value of any key\n",
    "d.pop(\"b\")"
   ]
  },
  {
   "cell_type": "code",
   "execution_count": 20,
   "id": "3209b15c",
   "metadata": {},
   "outputs": [
    {
     "data": {
      "text/plain": [
       "{'a': 1, 'm': 33}"
      ]
     },
     "execution_count": 20,
     "metadata": {},
     "output_type": "execute_result"
    }
   ],
   "source": [
    "d #it will show us what we have in the d dictionary"
   ]
  },
  {
   "cell_type": "code",
   "execution_count": 22,
   "id": "55ce418f",
   "metadata": {},
   "outputs": [
    {
     "name": "stdout",
     "output_type": "stream",
     "text": [
      "2\n",
      "3\n",
      "4\n",
      "5\n",
      "6\n",
      "7\n"
     ]
    }
   ],
   "source": [
    "#use loop and add 1 in every itteration\n",
    "l = [1,2,3,4,5,6]\n",
    "for i in l:\n",
    "    i = i+1\n",
    "    print(i)"
   ]
  },
  {
   "cell_type": "code",
   "execution_count": 24,
   "id": "0ff9632c",
   "metadata": {},
   "outputs": [
    {
     "data": {
      "text/plain": [
       "6"
      ]
     },
     "execution_count": 24,
     "metadata": {},
     "output_type": "execute_result"
    }
   ],
   "source": [
    "len(l) #when we use len it will show us the number of elements in the list"
   ]
  },
  {
   "cell_type": "code",
   "execution_count": 27,
   "id": "8de2d98a",
   "metadata": {},
   "outputs": [],
   "source": [
    "d = {\"a\":1,\"b\":3,\"c\":6,\"d\":33}"
   ]
  },
  {
   "cell_type": "code",
   "execution_count": 29,
   "id": "8957eb0b",
   "metadata": {},
   "outputs": [
    {
     "data": {
      "text/plain": [
       "dict_items([('a', 1), ('b', 3), ('c', 6), ('d', 33)])"
      ]
     },
     "execution_count": 29,
     "metadata": {},
     "output_type": "execute_result"
    }
   ],
   "source": [
    "d.items()   #when we use item it will show us all the key and values in dict."
   ]
  },
  {
   "cell_type": "code",
   "execution_count": 32,
   "id": "d8a73f87",
   "metadata": {},
   "outputs": [
    {
     "name": "stdout",
     "output_type": "stream",
     "text": [
      "2\n",
      "4\n",
      "7\n",
      "34\n"
     ]
    }
   ],
   "source": [
    "#now lets add 1 to each value in the dictionary\n",
    "for k,v in d.items():\n",
    "    v = v+1\n",
    "    print(v)"
   ]
  },
  {
   "cell_type": "code",
   "execution_count": 62,
   "id": "06eedf08",
   "metadata": {},
   "outputs": [],
   "source": [
    "d_list= {\"a\":[2],\"b\":[22],\"g\":[3]}\n"
   ]
  },
  {
   "cell_type": "code",
   "execution_count": 63,
   "id": "9a0ff5e7",
   "metadata": {},
   "outputs": [
    {
     "name": "stdout",
     "output_type": "stream",
     "text": [
      "{'a': [2], 'b': [22], 'g': [3]}\n"
     ]
    }
   ],
   "source": [
    "print(d_list)"
   ]
  },
  {
   "cell_type": "code",
   "execution_count": 64,
   "id": "785dbada",
   "metadata": {},
   "outputs": [
    {
     "name": "stdout",
     "output_type": "stream",
     "text": [
      "a 34\n",
      "b 34\n",
      "g 34\n"
     ]
    }
   ],
   "source": [
    "for k,c in d_list.items():\n",
    "        print(k,v) #when we use .items() it will show us all the keys and values"
   ]
  },
  {
   "cell_type": "code",
   "execution_count": 65,
   "id": "cf53f0b0",
   "metadata": {},
   "outputs": [
    {
     "name": "stdout",
     "output_type": "stream",
     "text": [
      "{'a': [2], 'b': [22], 'g': [3]}\n"
     ]
    }
   ],
   "source": [
    "print(d_list)\n"
   ]
  },
  {
   "cell_type": "code",
   "execution_count": 66,
   "id": "e0efb98e",
   "metadata": {},
   "outputs": [],
   "source": [
    "keys = d_list.keys()"
   ]
  },
  {
   "cell_type": "code",
   "execution_count": 69,
   "id": "b78355be",
   "metadata": {},
   "outputs": [],
   "source": [
    "for i in keys:\n",
    "    if i == [\"b\"]:\n",
    "        d_list[i] = \"hobbies\""
   ]
  },
  {
   "cell_type": "code",
   "execution_count": 72,
   "id": "cfd1b552",
   "metadata": {},
   "outputs": [
    {
     "data": {
      "text/plain": [
       "{'a': [2], 'b': [22], 'g': [3]}"
      ]
     },
     "execution_count": 72,
     "metadata": {},
     "output_type": "execute_result"
    }
   ],
   "source": [
    "d_list"
   ]
  },
  {
   "cell_type": "code",
   "execution_count": 71,
   "id": "01aaf9e0",
   "metadata": {},
   "outputs": [
    {
     "data": {
      "text/plain": [
       "dict"
      ]
     },
     "execution_count": 71,
     "metadata": {},
     "output_type": "execute_result"
    }
   ],
   "source": [
    "type(d_list)"
   ]
  }
 ],
 "metadata": {
  "kernelspec": {
   "display_name": "Python 3 (ipykernel)",
   "language": "python",
   "name": "python3"
  },
  "language_info": {
   "codemirror_mode": {
    "name": "ipython",
    "version": 3
   },
   "file_extension": ".py",
   "mimetype": "text/x-python",
   "name": "python",
   "nbconvert_exporter": "python",
   "pygments_lexer": "ipython3",
   "version": "3.8.12"
  }
 },
 "nbformat": 4,
 "nbformat_minor": 5
}
